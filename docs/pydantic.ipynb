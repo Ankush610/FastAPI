{
 "cells": [
  {
   "cell_type": "markdown",
   "id": "9c42ee8f",
   "metadata": {},
   "source": [
    "### **What is Pydantic?**\n",
    "\n",
    "**Pydantic** is a Python library for **data validation and settings management** using Python type annotations. It enforces type hints at runtime and provides powerful tools for parsing and validating structured data like JSON.\n",
    "It’s widely used in modern Python frameworks like **FastAPI**, where request/response data needs to be validated.\n",
    "\n",
    "---\n",
    "\n",
    "### **Why is Pydantic Used?**\n",
    "\n",
    "* ✅ To validate input data automatically.\n",
    "* ✅ To parse data from external sources (like JSON APIs).\n",
    "* ✅ To provide clear and explicit error messages when data validation fails.\n",
    "* ✅ To convert compatible data types automatically where possible (e.g., a string `\"23\"` to an integer `23`).\n",
    "* ✅ To build robust, type-safe, and self-documenting code.\n",
    "\n",
    "---\n",
    "\n",
    "### **Basic Example: Defining a Pydantic Model**\n",
    "\n",
    "Let’s define a **Patient** model with the following fields:\n",
    "\n",
    "* `pid: int`\n",
    "* `name: str`\n",
    "* `allergies: list[str]`\n",
    "* `contact_no: int`\n"
   ]
  },
  {
   "cell_type": "code",
   "execution_count": 1,
   "id": "a136e605",
   "metadata": {},
   "outputs": [],
   "source": [
    "from pydantic import BaseModel\n",
    "\n",
    "class Patient(BaseModel):\n",
    "    pid: int\n",
    "    name: str\n",
    "    allergies: list[str]\n",
    "    contact_no: int"
   ]
  },
  {
   "cell_type": "markdown",
   "id": "54b9350a",
   "metadata": {},
   "source": [
    "### **Creating an Object and Input Format**\n",
    "\n",
    "Pydantic models typically accept input data in the form of a **dictionary (Python’s native data type)**, often deserialized from **JSON**.\n",
    "\n",
    "✅ **Example Input (as a Python dict / JSON)**"
   ]
  },
  {
   "cell_type": "code",
   "execution_count": 2,
   "id": "f3ad99a5",
   "metadata": {},
   "outputs": [
    {
     "name": "stdout",
     "output_type": "stream",
     "text": [
      "pid=101 name='Ankush' allergies=['Dust', 'Peanuts'] contact_no=9876543210\n"
     ]
    }
   ],
   "source": [
    "patient_data = {\n",
    "    \"pid\": 101,\n",
    "    \"name\": \"Ankush\",\n",
    "    \"allergies\": [\"Dust\", \"Peanuts\"],\n",
    "    \"contact_no\": 9876543210\n",
    "}\n",
    "\n",
    "patient = Patient(**patient_data)\n",
    "print(patient)"
   ]
  },
  {
   "cell_type": "markdown",
   "id": "76cc2c68",
   "metadata": {},
   "source": [
    "### **Type Coercion (Automatic Type Conversion)**\n",
    "\n",
    "Pydantic tries to **coerce data types** if possible.\n",
    "For example, if `pid` is defined as an `int`, and you pass `\"23\"` (a string), it will convert it to `23`.\n",
    "However, if conversion is impossible (like converting `\"Ankush\"` to `int`), it raises a `ValidationError`.\n",
    "\n",
    "✅ **Example: Auto Conversion**"
   ]
  },
  {
   "cell_type": "code",
   "execution_count": 3,
   "id": "03703c85",
   "metadata": {},
   "outputs": [
    {
     "name": "stdout",
     "output_type": "stream",
     "text": [
      "pid=23 name='Ankush' allergies=['Dust'] contact_no=9876543210\n"
     ]
    }
   ],
   "source": [
    "patient_data = {\n",
    "    \"pid\": \"23\",  # string, but should be int\n",
    "    \"name\": \"Ankush\",\n",
    "    \"allergies\": [\"Dust\"],\n",
    "    \"contact_no\": \"9876543210\"  # string, but should be int\n",
    "}\n",
    "\n",
    "patient = Patient(**patient_data)\n",
    "print(patient)\n"
   ]
  },
  {
   "cell_type": "markdown",
   "id": "bbfea170",
   "metadata": {},
   "source": [
    "### **Exception Handling When Type Conversion Fails**\n",
    "\n",
    "If type coercion isn’t possible (like converting `\"Ankush\"` to `int`), Pydantic will raise a `ValidationError`.\n",
    "\n",
    "❌ **Example: Type Mismatch Error**"
   ]
  },
  {
   "cell_type": "code",
   "execution_count": 4,
   "id": "225e191f",
   "metadata": {},
   "outputs": [
    {
     "name": "stdout",
     "output_type": "stream",
     "text": [
      "1 validation error for Patient\n",
      "pid\n",
      "  Input should be a valid integer, unable to parse string as an integer [type=int_parsing, input_value='Ankush', input_type=str]\n",
      "    For further information visit https://errors.pydantic.dev/2.11/v/int_parsing\n"
     ]
    }
   ],
   "source": [
    "from pydantic import ValidationError\n",
    "\n",
    "invalid_data = {\n",
    "    \"pid\": \"Ankush\",  # invalid int\n",
    "    \"name\": \"Ankush\",\n",
    "    \"allergies\": [\"Dust\"],\n",
    "    \"contact_no\": \"9876543210\"\n",
    "}\n",
    "\n",
    "try:\n",
    "    patient = Patient(**invalid_data)\n",
    "except ValidationError as e:\n",
    "    print(e)"
   ]
  },
  {
   "cell_type": "markdown",
   "id": "8213aa2d",
   "metadata": {},
   "source": [
    "### **Required vs Optional Fields in Pydantic**\n",
    "\n",
    "By default, **all fields in a Pydantic model are required**.\n",
    "If any field is missing in the input data, Pydantic will raise a `ValidationError`.\n",
    "\n",
    "✅ **Example: All Fields Required**\n",
    "\n"
   ]
  },
  {
   "cell_type": "markdown",
   "id": "e990eedc",
   "metadata": {},
   "source": []
  },
  {
   "cell_type": "code",
   "execution_count": 5,
   "id": "41985303",
   "metadata": {},
   "outputs": [
    {
     "name": "stdout",
     "output_type": "stream",
     "text": [
      "1 validation error for Patient\n",
      "contact_no\n",
      "  Field required [type=missing, input_value={'pid': 23, 'name': 'Anku..., 'allergies': ['Dust']}, input_type=dict]\n",
      "    For further information visit https://errors.pydantic.dev/2.11/v/missing\n"
     ]
    }
   ],
   "source": [
    "from pydantic import BaseModel, ValidationError\n",
    "\n",
    "class Patient(BaseModel):\n",
    "    pid: int\n",
    "    name: str\n",
    "    allergies: list[str]\n",
    "    contact_no: int\n",
    "\n",
    "# Missing contact_no\n",
    "data = {\n",
    "    \"pid\": 23,\n",
    "    \"name\": \"Ankush\",\n",
    "    \"allergies\": [\"Dust\"]\n",
    "}\n",
    "\n",
    "try:\n",
    "    patient = Patient(**data)\n",
    "except ValidationError as e:\n",
    "    print(e)"
   ]
  },
  {
   "cell_type": "markdown",
   "id": "eb2d1cd3",
   "metadata": {},
   "source": [
    "### **Making a Field Optional**\n",
    "\n",
    "To make a field optional, we can use `Optional` from the `typing` module.\n",
    "An optional field can either have a value of the specified type or be `None`.\n",
    "\n",
    "We can also provide **any default value** to a field, which makes it optional because if the value is missing, the default will be used.\n",
    "\n",
    "✅ **Example: Optional Field**"
   ]
  },
  {
   "cell_type": "code",
   "execution_count": 6,
   "id": "1e866ca4",
   "metadata": {},
   "outputs": [],
   "source": [
    "from typing import Optional\n",
    "\n",
    "class Patient(BaseModel):\n",
    "    pid: int\n",
    "    name: str\n",
    "    allergies: list[str]\n",
    "    contact_no: Optional[int] = None  # Optional with a default value"
   ]
  },
  {
   "cell_type": "markdown",
   "id": "be89b324",
   "metadata": {},
   "source": [
    "### **Built-in Data Type Validators in Pydantic**\n",
    "\n",
    "Pydantic provides many pre-created custom data type validators.\n",
    "Some common ones include:\n",
    "\n",
    "* `EmailStr` → Validates a valid email address.\n",
    "* `AnyUrl` → Validates a valid URL.\n",
    "\n",
    "✅ **Example: Using EmailStr**"
   ]
  },
  {
   "cell_type": "code",
   "execution_count": 7,
   "id": "80248f7a",
   "metadata": {},
   "outputs": [
    {
     "name": "stdout",
     "output_type": "stream",
     "text": [
      "email='ankush@example.com'\n"
     ]
    }
   ],
   "source": [
    "from pydantic import BaseModel, EmailStr\n",
    "\n",
    "class User(BaseModel):\n",
    "    email: EmailStr\n",
    "\n",
    "user = User(email=\"ankush@example.com\")\n",
    "print(user)"
   ]
  },
  {
   "cell_type": "markdown",
   "id": "3fdd8f25",
   "metadata": {},
   "source": [
    "❌ If an invalid email is passed, it will raise a `ValidationError`.\n",
    "\n",
    "### **Using `Field()` for Extra Validation and Metadata**\n",
    "\n",
    "The `Field()` function is used to provide:\n",
    "\n",
    "* Default values\n",
    "* Metadata (like title, description)\n",
    "* Constraints (like `gt=0`, `max_length=100`)\n",
    "\n",
    "✅ **Example: Adding Constraints with Field()**"
   ]
  },
  {
   "cell_type": "code",
   "execution_count": 8,
   "id": "43f6311f",
   "metadata": {},
   "outputs": [
    {
     "name": "stdout",
     "output_type": "stream",
     "text": [
      "id=1 name='Oven' price=None\n"
     ]
    }
   ],
   "source": [
    "from pydantic import BaseModel, Field\n",
    "from typing import Optional\n",
    "\n",
    "class Product(BaseModel):\n",
    "    id: int\n",
    "    name: str = Field(..., max_length=50, title=\"Product Name\")\n",
    "    price: Optional[float] = Field(default=None, gt=0, description=\"Price must be greater than zero\")\n",
    "\n",
    "product1 = Product(id=1, name=\"Oven\")\n",
    "print(product1)\n"
   ]
  },
  {
   "cell_type": "markdown",
   "id": "d6d5918a",
   "metadata": {},
   "source": [
    "\n",
    "* `...` means the field is **required**\n",
    "* `gt=0` means value must be **greater than zero**\n",
    "* `max_length` sets maximum length for strings\n",
    "* `title` and `description` add metadata"
   ]
  },
  {
   "cell_type": "markdown",
   "id": "88fba6da",
   "metadata": {},
   "source": [
    "### **Disabling Type Coercion with `strict=True`**\n",
    "\n",
    "By default, Pydantic will try to **coerce data types**.\n",
    "If you want to enforce strict type checking and prevent coercion, you can use the `strict=True` parameter inside `Field()`.\n",
    "\n",
    "✅ **Example: Enforcing Strict Types**"
   ]
  },
  {
   "cell_type": "code",
   "execution_count": 9,
   "id": "551169c6",
   "metadata": {},
   "outputs": [
    {
     "name": "stdout",
     "output_type": "stream",
     "text": [
      "1 validation error for Item\n",
      "quantity\n",
      "  Input should be a valid integer [type=int_type, input_value='10', input_type=str]\n",
      "    For further information visit https://errors.pydantic.dev/2.11/v/int_type\n"
     ]
    }
   ],
   "source": [
    "from pydantic import BaseModel, Field, ValidationError\n",
    "\n",
    "class Item(BaseModel):\n",
    "    quantity: int = Field(..., strict=True)\n",
    "\n",
    "# This will raise a ValidationError since \"10\" is a string, not int\n",
    "try:\n",
    "    item = Item(quantity=\"10\")\n",
    "except ValidationError as e:\n",
    "    print(e)\n"
   ]
  },
  {
   "cell_type": "markdown",
   "id": "03b22021",
   "metadata": {},
   "source": [
    "### **What is a Field Validator?**\n",
    "\n",
    "In Pydantic, **field validators** are methods used to perform **custom, complex data validation** logic on specific fields.\n",
    "They’re especially useful when default type validation isn't enough — for example, checking email domains, transforming input values, or enforcing custom constraints.\n",
    "\n",
    "\n",
    "### **Defining a Field Validator**\n",
    "\n",
    "Use the `@field_validator` decorator to associate a method with a specific field.\n",
    "This method should be a `classmethod` and must return the validated (or transformed) value.\n",
    "\n",
    "✅ **Basic Syntax:**\n",
    "\n",
    "```python\n",
    "@field_validator('field_name')\n",
    "@classmethod\n",
    "def method_name(cls, value):\n",
    "    # validation logic\n",
    "    return value\n",
    "```\n",
    "\n",
    "### **Modes in Field Validators: `\"before\"` and `\"after\"`**\n",
    "\n",
    "* **mode=\"after\" (default):**\n",
    "\n",
    "  * Type coercion happens first.\n",
    "  * The validator runs after the type has been converted.\n",
    "\n",
    "* **mode=\"before\":**\n",
    "\n",
    "  * Validator runs **before type coercion**.\n",
    "  * The raw input is passed directly.\n",
    "  * Useful when you need to validate or transform raw input before type casting.\n",
    "\n",
    "### **Example: Custom Field Validators in Action**"
   ]
  },
  {
   "cell_type": "code",
   "execution_count": 10,
   "id": "3b55ed5d",
   "metadata": {},
   "outputs": [
    {
     "name": "stdout",
     "output_type": "stream",
     "text": [
      "Person1 Output : name='ANKUSH' age=24 email='ankush@okhdfc.com'\n",
      "\n",
      "Comparison should be performed between integers\n",
      "1 validation error for User\n",
      "age\n",
      "  Input should be a valid integer [type=int_type, input_value=None, input_type=NoneType]\n",
      "    For further information visit https://errors.pydantic.dev/2.11/v/int_type\n"
     ]
    }
   ],
   "source": [
    "from pydantic import BaseModel, field_validator, ValidationError\n",
    "\n",
    "class User(BaseModel):\n",
    "    name: str\n",
    "    age: int \n",
    "    email: str\n",
    "\n",
    "    # ✅ Email Validator\n",
    "    @field_validator('email')\n",
    "    @classmethod\n",
    "    def validate_email(cls, value):\n",
    "        valid_email_domains = ['okhdfc.com', 'icicibank.com']\n",
    "        extension = value.split('@')[-1]\n",
    "        if extension not in valid_email_domains:\n",
    "            raise ValueError(f\"Email must end with one of {valid_email_domains}\")\n",
    "        return value\n",
    "\n",
    "    # ✅ Name Transformation to Uppercase\n",
    "    @field_validator('name')\n",
    "    @classmethod\n",
    "    def upper_case(cls, value):\n",
    "        return value.upper()\n",
    "\n",
    "    # ✅ Age Validation with mode=\"before\"\n",
    "    @field_validator('age', mode='before')\n",
    "    @classmethod\n",
    "    def validate_age(cls, value):\n",
    "        try:\n",
    "            if 0 < value < 100:\n",
    "                return value\n",
    "            else:\n",
    "                raise ValueError(\"Pass the age within valid range [0-100]\")\n",
    "        except TypeError:\n",
    "            print(\"Comparison should be performed between integers\")\n",
    "\n",
    "\n",
    "try:\n",
    "    person1 = User(name=\"Ankush\", age=24, email=\"ankush@okhdfc.com\")\n",
    "    print(f\"Person1 Output : {person1}\\n\")\n",
    "\n",
    "    person2 = User(name=\"Ankush\", age=\"24\", email=\"ankush@okhdfc.com\")\n",
    "    print(f\"Person2 Output : {person2}\\n\")\n",
    "\n",
    "    # This will raise a validation error\n",
    "    person3 = User(name=\"Ankush\", age=150, email=\"ankush@gmail.com\")\n",
    "\n",
    "except ValidationError as e:\n",
    "    print(e)\n"
   ]
  },
  {
   "cell_type": "markdown",
   "id": "3faf4918",
   "metadata": {},
   "source": [
    "### **What is a Model Validator?**\n",
    "\n",
    "While `@field_validator` validates **individual fields**, a **model validator** is used when you need to:\n",
    "\n",
    "* Validate logic that depends on **multiple fields together**\n",
    "* Perform consistency checks across different fields\n",
    "* Transform or adjust the entire model object after creation\n",
    "\n",
    "You define a model validator using the `@model_validator` decorator.SS\n",
    "\n",
    "### **Summary**\n",
    "\n",
    "| Field Validator              | Model Validator                         |\n",
    "| :--------------------------- | :-------------------------------------- |\n",
    "| Validates a **single field** | Validates **multiple fields together**  |\n",
    "| Uses `@field_validator`      | Uses `@model_validator`                 |\n",
    "| Receives individual value    | Receives the entire model object        |\n",
    "| Can modify or validate value | Can validate or modify the entire model |\n",
    "\n",
    "\n",
    "### **Key Points**\n",
    "\n",
    "* Use `@model_validator` when validation logic involves **multiple fields together**.\n",
    "* Use `mode='after'` for working with converted and validated field values.\n",
    "* Raise `ValueError` with clear messages for failed validations.\n",
    "* Always **return the model** instance in `mode='after'` validators.\n",
    "\n",
    "\n",
    "### **Example: Multi-Field Validation with `@model_validator`**"
   ]
  },
  {
   "cell_type": "code",
   "execution_count": 11,
   "id": "f2b959af",
   "metadata": {},
   "outputs": [
    {
     "name": "stdout",
     "output_type": "stream",
     "text": [
      "name='Ankush' age=25 email='ankush@icicibank'\n"
     ]
    }
   ],
   "source": [
    "from pydantic import BaseModel, model_validator, ValidationError\n",
    "\n",
    "class User(BaseModel):\n",
    "    name: str\n",
    "    age: int\n",
    "    email: str\n",
    "\n",
    "    @model_validator(mode='after')\n",
    "    @classmethod\n",
    "    def validate(cls, model):\n",
    "        # ✅ Age Check\n",
    "        if not (0 < model.age < 100):\n",
    "            raise ValueError(\"The age is not in a valid range (1-99).\")\n",
    "\n",
    "        # ✅ Email Domain Check\n",
    "        valid_domains = ['okhdfc', 'icicibank']\n",
    "        domain = model.email.split(\"@\")[-1]\n",
    "        if domain not in valid_domains:\n",
    "            raise ValueError(f\"Email must end with one of {valid_domains}\")\n",
    "\n",
    "        return model\n",
    "\n",
    "\n",
    "try:\n",
    "    person1 = User(name=\"Ankush\", age=25, email=\"ankush@icicibank\")\n",
    "    print(person1)\n",
    "except ValidationError as e:\n",
    "    print(e)"
   ]
  },
  {
   "cell_type": "markdown",
   "id": "57ad6f69",
   "metadata": {},
   "source": [
    "\n",
    "\n",
    "### **What is a Computed Field?**\n",
    "\n",
    "A **computed field** is a value that:\n",
    "\n",
    "* **Is not stored** in the model's internal data dictionary\n",
    "* Is **computed dynamically** based on other model fields when accessed\n",
    "* Can optionally be included in the model's `__repr__`, `dict()`, and `json()` outputs\n",
    "\n",
    "In Pydantic, you can create computed fields using the `@computed_field` decorator combined with a `@property`.\n",
    "\n",
    "\n",
    "### **How It Works**\n",
    "\n",
    "* `@property` turns the method into an instance attribute.\n",
    "* `@computed_field` tells Pydantic this is a computed property.\n",
    "* It’s computed on the fly whenever accessed.\n",
    "* Not stored inside the model's data (i.e., not part of `__dict__`).\n",
    "\n",
    "\n",
    "### **Why Use Computed Fields?**\n",
    "\n",
    "✅ To dynamically compute values derived from other fields\n",
    "✅ To avoid redundant storage of derived values\n",
    "✅ To keep data consistent, as the computed value always reflects current field values\n",
    "✅ Useful for things like:\n",
    "\n",
    "* BMI calculations\n",
    "* Full names from first and last name\n",
    "* Tax or discount calculations\n",
    "\n",
    "### **Example: Calculating BMI with a Computed Field**"
   ]
  },
  {
   "cell_type": "code",
   "execution_count": 12,
   "id": "45a399a1",
   "metadata": {},
   "outputs": [
    {
     "name": "stdout",
     "output_type": "stream",
     "text": [
      "name='Ankush' age=25 height=1.75 weight=70.0 bmi=22.86\n",
      "22.86\n",
      "{'name': 'Ankush', 'age': 25, 'height': 1.75, 'weight': 70.0}\n"
     ]
    }
   ],
   "source": [
    "from pydantic import BaseModel, computed_field\n",
    "\n",
    "class User(BaseModel):\n",
    "    name: str\n",
    "    age: int\n",
    "    height: float  # in meters\n",
    "    weight: float  # in kg\n",
    "\n",
    "    @computed_field\n",
    "    @property\n",
    "    def bmi(self) -> float:\n",
    "        return round(self.weight / (self.height ** 2), 2)\n",
    "\n",
    "\n",
    "try:\n",
    "    person1 = User(name=\"Ankush\", age=25, height=1.75, weight=70)\n",
    "    \n",
    "    print(person1)\n",
    "    # ✅ __repr__ includes computed fields like bmi\n",
    "    \n",
    "    print(person1.bmi)\n",
    "    # ✅ Computes BMI dynamically based on height and weight\n",
    "    \n",
    "    print(person1.__dict__)\n",
    "    # ✅ No 'bmi' stored — it's computed when accessed\n",
    "\n",
    "except Exception as e:\n",
    "    print(\"Some error occurred:\", e)"
   ]
  },
  {
   "cell_type": "markdown",
   "id": "37129a21",
   "metadata": {},
   "source": [
    "### **What is a Nested Model?**\n",
    "\n",
    "A **nested model** in Pydantic is when one model class is used as a **field inside another model**.\n",
    "This allows you to represent **hierarchical or structured data** cleanly and enforce validation recursively at each level.\n",
    "\n",
    "\n",
    "### **Why Use Nested Models?**\n",
    "\n",
    "* To logically group related data together (like an Address inside a Patient profile)\n",
    "* To ensure validation and type checking at **each nested level**\n",
    "* To simplify complex data structures into manageable, reusable model components\n",
    "* To support nested JSON-like structures naturally\n",
    "\n",
    "### **Example: Patient and Address as Nested Models**"
   ]
  },
  {
   "cell_type": "code",
   "execution_count": 13,
   "id": "e3194ec6",
   "metadata": {},
   "outputs": [
    {
     "name": "stdout",
     "output_type": "stream",
     "text": [
      "name='Ankush' gender='Male' age=26 address=Address(city='Jamner', state='Maharashtra', pin=424206)\n",
      "city='Jamner' state='Maharashtra' pin=424206\n",
      "Maharashtra\n"
     ]
    }
   ],
   "source": [
    "from pydantic import BaseModel\n",
    "\n",
    "class Address(BaseModel):\n",
    "    city : str\n",
    "    state : str \n",
    "    pin : int \n",
    "\n",
    "class Patient(BaseModel):\n",
    "    name : str \n",
    "    gender : str \n",
    "    age : int \n",
    "    address : Address\n",
    "\n",
    "\n",
    "address_dict = {\"city\":\"Jamner\",\"state\":\"Maharashtra\",\"pin\":424206}\n",
    "\n",
    "address = Address(**address_dict)\n",
    "\n",
    "patient_dcit = {\"name\":\"Ankush\",\"gender\":\"Male\",\"age\":26,\"address\":address}\n",
    "\n",
    "patient = Patient(**patient_dcit)\n",
    "\n",
    "print(patient)\n",
    "print(patient.address)\n",
    "print(patient.address.state)"
   ]
  },
  {
   "cell_type": "code",
   "execution_count": 14,
   "id": "c7653227",
   "metadata": {},
   "outputs": [
    {
     "name": "stdout",
     "output_type": "stream",
     "text": [
      "name='Piyush' gender='Male' age=26 address=Address(city='Jalgaon', state='Maharashtra', pin=424206)\n"
     ]
    }
   ],
   "source": [
    "nested_patient_dict = {\n",
    "    \"name\": \"Piyush\",\n",
    "    \"gender\": \"Male\",\n",
    "    \"age\": 26,\n",
    "    \"address\": {\n",
    "        \"city\": \"Jalgaon\",\n",
    "        \"state\": \"Maharashtra\",\n",
    "        \"pin\": 424206\n",
    "    }\n",
    "}\n",
    "\n",
    "patient = Patient(**nested_patient_dict)\n",
    "print(patient)"
   ]
  },
  {
   "cell_type": "markdown",
   "id": "28b6bbfa",
   "metadata": {},
   "source": [
    "### **What is Serialization?**\n",
    "\n",
    "**Serialization** is the process of converting a Pydantic model into a native **Python dict** or **JSON string** so it can be stored, transmitted, or displayed.\n",
    "\n",
    "Pydantic models offer methods for this:\n",
    "\n",
    "* `model.model_dump()` → returns a Python dictionary\n",
    "* `model.model_dump_json()` → returns a JSON string\n",
    "\n",
    "Both support powerful options like `include`, `exclude`, `exclude_unset`, and more.\n",
    "\n",
    "\n",
    "### **Serialization Methods**\n",
    "\n",
    "| Method         | Description                             |\n",
    "| :------------- | :-------------------------------------- |\n",
    "| `model.model_dump()` | Converts the model into a Python `dict` |\n",
    "| `model.model_dump_json()` | Converts the model into a JSON `str`    |\n",
    "\n",
    "\n",
    "\n",
    "### **Serialization Options**\n",
    "\n",
    "| Option             | Description                                                           |\n",
    "| :----------------- | :-------------------------------------------------------------------- |\n",
    "| `include`          | List or set of fields to include in the output                        |\n",
    "| `exclude`          | List or set of fields to exclude from the output                      |\n",
    "| `exclude_unset`    | If `True`, exclude fields that weren’t explicitly set (used defaults) |\n",
    "| `exclude_defaults` | If `True`, exclude fields that have their default values              |\n",
    "| `exclude_none`     | If `True`, exclude fields whose value is `None`                       |"
   ]
  },
  {
   "cell_type": "code",
   "execution_count": 15,
   "id": "42c45258",
   "metadata": {},
   "outputs": [],
   "source": [
    "from pydantic import BaseModel\n",
    "from typing import Optional\n",
    "\n",
    "class Address(BaseModel):\n",
    "    city: str\n",
    "    state: str\n",
    "    pin: int \n",
    "\n",
    "class Patient(BaseModel):\n",
    "    name: str\n",
    "    gender: str\n",
    "    age: int \n",
    "    address: Address\n",
    "    phone: Optional[str] = None   # optional field\n",
    "\n",
    "# Sample data\n",
    "patient = Patient(\n",
    "    name=\"Ankush\",\n",
    "    gender=\"Male\",\n",
    "    age=26,\n",
    "    address=Address(city=\"Jamner\", state=\"Maharashtra\", pin=424206),\n",
    "    phone=None\n",
    ")"
   ]
  },
  {
   "cell_type": "code",
   "execution_count": 16,
   "id": "7bd3a252",
   "metadata": {},
   "outputs": [
    {
     "name": "stdout",
     "output_type": "stream",
     "text": [
      "{'name': 'Ankush', 'gender': 'Male', 'age': 26, 'address': {'city': 'Jamner', 'state': 'Maharashtra', 'pin': 424206}, 'phone': None}\n"
     ]
    }
   ],
   "source": [
    "print(patient.model_dump()) # full serilization "
   ]
  },
  {
   "cell_type": "code",
   "execution_count": 17,
   "id": "fbf7c7dc",
   "metadata": {},
   "outputs": [
    {
     "name": "stdout",
     "output_type": "stream",
     "text": [
      "{'name': 'Ankush', 'age': 26}\n"
     ]
    }
   ],
   "source": [
    "print(patient.model_dump(include={\"name\", \"age\"})) "
   ]
  },
  {
   "cell_type": "code",
   "execution_count": 18,
   "id": "d70cbfb1",
   "metadata": {},
   "outputs": [
    {
     "name": "stdout",
     "output_type": "stream",
     "text": [
      "{'name': 'Ankush', 'age': 26}\n"
     ]
    }
   ],
   "source": [
    "print(patient.model_dump(include={\"name\", \"age\"}))"
   ]
  },
  {
   "cell_type": "code",
   "execution_count": 19,
   "id": "6f92a40a",
   "metadata": {},
   "outputs": [
    {
     "name": "stdout",
     "output_type": "stream",
     "text": [
      "{'name': 'Ankush', 'gender': 'Male', 'age': 26}\n"
     ]
    }
   ],
   "source": [
    "print(patient.model_dump(exclude={\"address\", \"phone\"}))"
   ]
  },
  {
   "cell_type": "code",
   "execution_count": 20,
   "id": "bb3d6958",
   "metadata": {},
   "outputs": [
    {
     "name": "stdout",
     "output_type": "stream",
     "text": [
      "{'name': 'Ankush', 'gender': 'Male', 'age': 26, 'address': {'city': 'Jamner', 'state': 'Maharashtra', 'pin': 424206}}\n"
     ]
    }
   ],
   "source": [
    "patient_partial = Patient(\n",
    "    name=\"Ankush\",\n",
    "    gender=\"Male\",\n",
    "    age=26,\n",
    "    address=Address(city=\"Jamner\", state=\"Maharashtra\", pin=424206)\n",
    ")\n",
    "\n",
    "print(patient_partial.model_dump(exclude_unset=True))  "
   ]
  },
  {
   "cell_type": "code",
   "execution_count": 21,
   "id": "97a929d3",
   "metadata": {},
   "outputs": [
    {
     "name": "stdout",
     "output_type": "stream",
     "text": [
      "{\"name\":\"Ankush\",\"gender\":\"Male\",\"age\":26,\"address\":{\"city\":\"Jamner\",\"state\":\"Maharashtra\",\"pin\":424206},\"phone\":null}\n"
     ]
    }
   ],
   "source": [
    "print(patient.model_dump_json())"
   ]
  }
 ],
 "metadata": {
  "kernelspec": {
   "display_name": "resumeAI",
   "language": "python",
   "name": "python3"
  },
  "language_info": {
   "codemirror_mode": {
    "name": "ipython",
    "version": 3
   },
   "file_extension": ".py",
   "mimetype": "text/x-python",
   "name": "python",
   "nbconvert_exporter": "python",
   "pygments_lexer": "ipython3",
   "version": "3.9.21"
  }
 },
 "nbformat": 4,
 "nbformat_minor": 5
}
